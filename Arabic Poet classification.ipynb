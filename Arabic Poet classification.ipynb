{
 "cells": [
  {
   "cell_type": "markdown",
   "metadata": {},
   "source": [
    "# Project: Arabic poetry classification\n",
    "# Abstract\n",
    "### An attempt is made to classify  Arabic poets. The dataset consist of 58021 poets that will be classified into five different groups (العصر العباسي,العصر الأندلسي , العصر الإسلامي, العصر الجاهلي, العصر الحديث). In this project, I will understand the data and try to provide a solution for how to classify Arabic poets."
   ]
  },
  {
   "cell_type": "markdown",
   "metadata": {},
   "source": [
    "#  0. Import necessary libraries"
   ]
  },
  {
   "cell_type": "code",
   "execution_count": 1,
   "metadata": {},
   "outputs": [],
   "source": [
    "import pandas as pd\n",
    "import numpy as np \n",
    "import matplotlib.pyplot as plt\n",
    "\n",
    "import nltk\n",
    "from nltk.stem.isri import ISRIStemmer\n",
    "from nltk.corpus import stopwords\n",
    "from nltk.tokenize import word_tokenize\n",
    "from nltk.tokenize import RegexpTokenizer\n",
    "from collections import Counter \n",
    "from tqdm import tqdm as tq\n",
    "import csv\n",
    "\n",
    "import warnings\n",
    "warnings.filterwarnings(\"ignore\")\n",
    "from IPython.display import clear_output\n",
    "\n",
    "from sklearn.feature_extraction.text import TfidfVectorizer\n",
    "from sklearn.model_selection import train_test_split\n",
    "from sklearn import svm\n",
    "from sklearn.linear_model import LogisticRegression\n",
    "from sklearn.model_selection import cross_val_score, cross_val_predict, KFold\n",
    "from sklearn.metrics  import classification_report, accuracy_score, f1_score,precision_score,recall_score\n",
    "from sklearn.multiclass import OneVsRestClassifier\n",
    "from sklearn.linear_model import SGDClassifier \n",
    "from sklearn.naive_bayes import GaussianNB\n",
    "from sklearn.neighbors import KNeighborsClassifier\n",
    "from sklearn import metrics\n",
    "from sklearn import svm\n",
    "\n",
    "%matplotlib inline"
   ]
  },
  {
   "cell_type": "markdown",
   "metadata": {},
   "source": [
    "# 1. Load the dataset."
   ]
  },
  {
   "cell_type": "code",
   "execution_count": 2,
   "metadata": {},
   "outputs": [
    {
     "data": {
      "text/html": [
       "<div>\n",
       "<style scoped>\n",
       "    .dataframe tbody tr th:only-of-type {\n",
       "        vertical-align: middle;\n",
       "    }\n",
       "\n",
       "    .dataframe tbody tr th {\n",
       "        vertical-align: top;\n",
       "    }\n",
       "\n",
       "    .dataframe thead th {\n",
       "        text-align: right;\n",
       "    }\n",
       "</style>\n",
       "<table border=\"1\" class=\"dataframe\">\n",
       "  <thead>\n",
       "    <tr style=\"text-align: right;\">\n",
       "      <th></th>\n",
       "      <th>poem_id</th>\n",
       "      <th>poem_style</th>\n",
       "      <th>poem_text</th>\n",
       "      <th>poem_title</th>\n",
       "      <th>poet_cat</th>\n",
       "      <th>poet_id</th>\n",
       "      <th>poet_name</th>\n",
       "    </tr>\n",
       "  </thead>\n",
       "  <tbody>\n",
       "    <tr>\n",
       "      <th>0</th>\n",
       "      <td>21</td>\n",
       "      <td>فصحى</td>\n",
       "      <td>عيناك غابتا نخيل ساعة السحر او شرفتان راح يناي...</td>\n",
       "      <td>أنشودة المطر</td>\n",
       "      <td>العراق</td>\n",
       "      <td>2</td>\n",
       "      <td>بدر شاكر السياب</td>\n",
       "    </tr>\n",
       "    <tr>\n",
       "      <th>1</th>\n",
       "      <td>65546</td>\n",
       "      <td>فصحى</td>\n",
       "      <td>انا لا ازال و في يدي قدحي ياليل اين تفرق الشر...</td>\n",
       "      <td>أقداح و أحلام</td>\n",
       "      <td>العراق</td>\n",
       "      <td>2</td>\n",
       "      <td>بدر شاكر السياب</td>\n",
       "    </tr>\n",
       "    <tr>\n",
       "      <th>2</th>\n",
       "      <td>65561</td>\n",
       "      <td>فصحى</td>\n",
       "      <td>علي مقلتيك ارتشفت النجوم وعانقت امالي الايبة ...</td>\n",
       "      <td>هوى واحد !</td>\n",
       "      <td>العراق</td>\n",
       "      <td>2</td>\n",
       "      <td>بدر شاكر السياب</td>\n",
       "    </tr>\n",
       "    <tr>\n",
       "      <th>3</th>\n",
       "      <td>65554</td>\n",
       "      <td>فصحى</td>\n",
       "      <td>اساطير من حشرجات الزمان نسيج اليد البالية رواه...</td>\n",
       "      <td>أساطير</td>\n",
       "      <td>العراق</td>\n",
       "      <td>2</td>\n",
       "      <td>بدر شاكر السياب</td>\n",
       "    </tr>\n",
       "    <tr>\n",
       "      <th>4</th>\n",
       "      <td>65550</td>\n",
       "      <td>فصحى</td>\n",
       "      <td>والتف حولك ساعداي ومال جيدك في اشتهاء كالزهرة ...</td>\n",
       "      <td>اللقاء الأخير</td>\n",
       "      <td>العراق</td>\n",
       "      <td>2</td>\n",
       "      <td>بدر شاكر السياب</td>\n",
       "    </tr>\n",
       "  </tbody>\n",
       "</table>\n",
       "</div>"
      ],
      "text/plain": [
       "   poem_id poem_style                                          poem_text  \\\n",
       "0       21       فصحى  عيناك غابتا نخيل ساعة السحر او شرفتان راح يناي...   \n",
       "1    65546       فصحى   انا لا ازال و في يدي قدحي ياليل اين تفرق الشر...   \n",
       "2    65561       فصحى   علي مقلتيك ارتشفت النجوم وعانقت امالي الايبة ...   \n",
       "3    65554       فصحى  اساطير من حشرجات الزمان نسيج اليد البالية رواه...   \n",
       "4    65550       فصحى  والتف حولك ساعداي ومال جيدك في اشتهاء كالزهرة ...   \n",
       "\n",
       "       poem_title poet_cat  poet_id        poet_name  \n",
       "0   أنشودة المطر    العراق        2  بدر شاكر السياب  \n",
       "1  أقداح و أحلام    العراق        2  بدر شاكر السياب  \n",
       "2     هوى واحد !    العراق        2  بدر شاكر السياب  \n",
       "3         أساطير    العراق        2  بدر شاكر السياب  \n",
       "4  اللقاء الأخير    العراق        2  بدر شاكر السياب  "
      ]
     },
     "execution_count": 2,
     "metadata": {},
     "output_type": "execute_result"
    }
   ],
   "source": [
    "fields = ['poem_id', 'poem_style','poem_text','poem_title','poet_cat','poet_id','poet_name']\n",
    "\n",
    "poem = pd.read_csv('Arabic Poetry Dataset/all_poems_58K.csv',usecols=fields,encoding='utf-8') \n",
    "poem.head()\n"
   ]
  },
  {
   "cell_type": "markdown",
   "metadata": {},
   "source": [
    "# 2. EDA.\n",
    "\n",
    "### print number of rows and columns"
   ]
  },
  {
   "cell_type": "code",
   "execution_count": 3,
   "metadata": {},
   "outputs": [
    {
     "data": {
      "text/plain": [
       "(58021, 7)"
      ]
     },
     "execution_count": 3,
     "metadata": {},
     "output_type": "execute_result"
    }
   ],
   "source": [
    "poem.shape"
   ]
  },
  {
   "cell_type": "markdown",
   "metadata": {},
   "source": [
    "### Print the full summary"
   ]
  },
  {
   "cell_type": "code",
   "execution_count": 4,
   "metadata": {},
   "outputs": [
    {
     "name": "stdout",
     "output_type": "stream",
     "text": [
      "<class 'pandas.core.frame.DataFrame'>\n",
      "RangeIndex: 58021 entries, 0 to 58020\n",
      "Data columns (total 7 columns):\n",
      "poem_id       58021 non-null int64\n",
      "poem_style    58021 non-null object\n",
      "poem_text     58020 non-null object\n",
      "poem_title    58021 non-null object\n",
      "poet_cat      58021 non-null object\n",
      "poet_id       58021 non-null int64\n",
      "poet_name     58021 non-null object\n",
      "dtypes: int64(2), object(5)\n",
      "memory usage: 3.1+ MB\n"
     ]
    }
   ],
   "source": [
    "poem.info()"
   ]
  },
  {
   "cell_type": "markdown",
   "metadata": {},
   "source": [
    "It seems that there is a null value in poem_text"
   ]
  },
  {
   "cell_type": "code",
   "execution_count": 5,
   "metadata": {},
   "outputs": [
    {
     "data": {
      "text/plain": [
       "poem_id       0\n",
       "poem_style    0\n",
       "poem_text     1\n",
       "poem_title    0\n",
       "poet_cat      0\n",
       "poet_id       0\n",
       "poet_name     0\n",
       "dtype: int64"
      ]
     },
     "execution_count": 5,
     "metadata": {},
     "output_type": "execute_result"
    }
   ],
   "source": [
    "poem.isna().sum()"
   ]
  },
  {
   "cell_type": "markdown",
   "metadata": {},
   "source": [
    "#### Returning the index of the null value"
   ]
  },
  {
   "cell_type": "code",
   "execution_count": 6,
   "metadata": {},
   "outputs": [
    {
     "data": {
      "text/plain": [
       "[2454]"
      ]
     },
     "execution_count": 6,
     "metadata": {},
     "output_type": "execute_result"
    }
   ],
   "source": [
    "poem[poem['poem_text'].isnull()].index.tolist()"
   ]
  },
  {
   "cell_type": "markdown",
   "metadata": {},
   "source": [
    "#### Displaying the null value"
   ]
  },
  {
   "cell_type": "code",
   "execution_count": 7,
   "metadata": {},
   "outputs": [
    {
     "data": {
      "text/plain": [
       "poem_id            6200\n",
       "poem_style         فصحى\n",
       "poem_text           NaN\n",
       "poem_title     الأشباح \n",
       "poet_cat        البحرين\n",
       "poet_id              68\n",
       "poet_name     قاسم حداد\n",
       "Name: 2454, dtype: object"
      ]
     },
     "execution_count": 7,
     "metadata": {},
     "output_type": "execute_result"
    }
   ],
   "source": [
    "poem.iloc[2454]"
   ]
  },
  {
   "cell_type": "markdown",
   "metadata": {},
   "source": [
    "#### Let's drop the null value"
   ]
  },
  {
   "cell_type": "code",
   "execution_count": 8,
   "metadata": {},
   "outputs": [],
   "source": [
    "poem = poem.dropna(axis=0, subset=['poem_text'])"
   ]
  },
  {
   "cell_type": "code",
   "execution_count": 9,
   "metadata": {},
   "outputs": [
    {
     "data": {
      "text/plain": [
       "[]"
      ]
     },
     "execution_count": 9,
     "metadata": {},
     "output_type": "execute_result"
    }
   ],
   "source": [
    "poem[poem['poem_text'].isnull()].index.tolist()"
   ]
  },
  {
   "cell_type": "markdown",
   "metadata": {},
   "source": [
    "#### View the unique categories"
   ]
  },
  {
   "cell_type": "code",
   "execution_count": 10,
   "metadata": {},
   "outputs": [
    {
     "data": {
      "text/plain": [
       "array(['العراق', 'سوريا', 'مصر', 'تونس', 'السعودية', 'لبنان', 'فلسطين',\n",
       "       'اليمن', 'العصر الجاهلي', 'العصر الأندلسي', 'السودان', 'البحرين',\n",
       "       'العصر الإسلامي', 'العصر العباسي', 'ليبيا', 'عمان', 'المغرب',\n",
       "       'الجزائر', 'الإمارات', 'الأردن', 'الكويت', 'قطر', 'موريتانيا',\n",
       "       'شعراء العراق والشام', 'أفغانستان', 'إيران'], dtype=object)"
      ]
     },
     "execution_count": 10,
     "metadata": {},
     "output_type": "execute_result"
    }
   ],
   "source": [
    "poem.poet_cat.unique()"
   ]
  },
  {
   "cell_type": "markdown",
   "metadata": {},
   "source": [
    "### It seem that we have (العصر العباسي,العصر الأندلسي , العصر الإسلامي, العصر الجاهلي, وأسماء دول  ), the country names will be converted into العصر الحديث."
   ]
  },
  {
   "cell_type": "markdown",
   "metadata": {},
   "source": [
    "### If there is any duplicate poem, remove it."
   ]
  },
  {
   "cell_type": "code",
   "execution_count": 11,
   "metadata": {},
   "outputs": [],
   "source": [
    "poem.drop_duplicates(subset='poem_text', inplace=True)"
   ]
  },
  {
   "cell_type": "code",
   "execution_count": 12,
   "metadata": {},
   "outputs": [
    {
     "name": "stdout",
     "output_type": "stream",
     "text": [
      "<class 'pandas.core.frame.DataFrame'>\n",
      "Int64Index: 57693 entries, 0 to 58020\n",
      "Data columns (total 7 columns):\n",
      "poem_id       57693 non-null int64\n",
      "poem_style    57693 non-null object\n",
      "poem_text     57693 non-null object\n",
      "poem_title    57693 non-null object\n",
      "poet_cat      57693 non-null object\n",
      "poet_id       57693 non-null int64\n",
      "poet_name     57693 non-null object\n",
      "dtypes: int64(2), object(5)\n",
      "memory usage: 3.5+ MB\n"
     ]
    }
   ],
   "source": [
    "poem.info()"
   ]
  },
  {
   "cell_type": "markdown",
   "metadata": {},
   "source": [
    "##### The poem number reduced from 58020 to 57693 after removing the dublicated poems"
   ]
  },
  {
   "cell_type": "markdown",
   "metadata": {},
   "source": [
    "### Now, let's view one poem, to check for any special character"
   ]
  },
  {
   "cell_type": "code",
   "execution_count": 13,
   "metadata": {},
   "outputs": [
    {
     "data": {
      "text/plain": [
       "' انا لا ازال و في يدي قدحي ياليل اين تفرق الشرب ما زلت اشربها و اشربها حتي ترنح افقك الرحب الشرق عفر بالضباب فما يبدو فاين سناك يا غرب ما لنجوم غرقن من سام في ضوءهن و كادت الشهب انا لا ازال و في يدي قدحي ياليل اين تفرق الشرب ****** الحان بالشهوات مصطخب حتي يكاد بهن ينهار و كان مصاحبيه من ضرج كفان مدهما لي العار كفان بل ثغران قد صبغا بدم تدفق منه تيار كاسان ملءهما طلي عصرت من مهجتين رماهما الحب او مخلبان عليهما مزق حمراء تزعم انها قلب ****** الخمر جمعت الدهور , ومافيهن بين جوانب الحان ياويحها اسكرت ام سكرتام نحن في السكرات سيان رمت العوالم والدهور علي ثغري وفوق يدي واجفاني كفي تمد فما تناولني كاسا لعيني خمرها نهب واصافح الدنيا فياعجبا البعد لان واعرض القرب ****** يا ليل اين تطوف بي قدمي في اي منعرج من الظلم تلك السبيل اكاد اعرفها بالامس خاصر طيفها حلمي هي غمد خنجرك الرهيب و قد جردته و مسحت عنه دمي تلك السبيل علي جوانبها تمزق الخطوات او تكبو تثاءب الاجساد جاءعة فيها كما يتثاءب الذءب حسناء يلهب عريها ظماي فاكاد اشرب ذلك العريا و اكاد احطمه فتحطمني عينان جاءعتان كالدنيا غرست يد الحمي علي فمها زهرا طوي شهواتها طيا ان فتحته بحرها شفة سكري يعربد فوقها ندب رقص الهيب علي كماءمه و مشي الطلاء يهزه الوثب عين يرنح هدبها نفسي وفم يقطع همسه الداء ويد علي كتفي مجلجلة رباه ويك اتلك حواء لا كنت ادمها و لا لفحت فردوسي الخمري صحراء صوت النعاس يرن في افقي فتذوب ناعسة به السحب ان الفراش يقيك ياقدمي سوء العثار اذا دجي درب ****** انا حاءر متوجف قلق كالظل بين جوانب البحر المد قربني الي شبحي والان تبعدني يد الجزر وانا الضياء تخيفني دجن واخاف ان ساضيع في الفجر يانوم كل عوالمي حجب ولو التقيتك ذابت الحجب و انثال من سهري علي سهري ينبوعك المتثاءب الرطب اثملت بين جوانحي املا ماكنت اعلم انه امل مثل الفراشة عاد يحبسها دوح بذاءب طله خضل لولا خفوق جناحها غفلت بيض الازاهر عنه والمقل انا من ظلالك بين اودية عذراء كل سهادها عشب هام الضباب علي جوانبها طل الوشاح كنجمة تخبو ****** انا كوكب ظمان ترعشه نطف مءرجة من السحر انا غير جسمي عالمي حلم بكر الظلال ولمحه عمري قلبي تغرب عن احبته وانسل من نغماته وتري فاذا لثمت فغير خادعة بات لكل مخادع تصبو واذا شدوت ارن في افق عبر السماء غناءي العذب ****** هو يافءادي طيفها مسحت عنه التراب انامل الغسق هو غير تلك اما تري القا هو من دماءك انت من حرقي هو غيرها غدرت وبادلني حبي و ضمد بالسنا افقي ومن المهازل ان يري امدا بين الخيانة و الهوي _ هدب اين العوالم كيف غيرها نوم يرف وخاطر صب ****** خفقت ذواءبها علي شفتي و سني فاسكر عطرها نفسي نهر من النفحات ارشفني ريحا تريب مجامر الغلس فكان نايا ضمخته يدا اذار ناغم ليلة العرس فغفا و ما زالت ملاحنه ملء الفضاء يعيدها الحب او ان سوسنة يراقصها رجع الغناء بشعرها تربو ****** ياقبلة اخذت علي عجل افدي بعمري ذلك العجلا الشعر ستر بالظلال فمي فهوي علي الوجنات واشتعلا فعلي جوانبهن منه سنا يدعوه من جهل الهوي خجلا فضح احمرارك ياخدود فما زال يفضحني بما يحبو هو طفلك الاهي ينازعه ابدا الي زهراتك العب ****** يا جسم ذاك الطيف ايا شبحا من ذكرياتي يا هوي خدعا لعناتي الحنقات ما برحت تعتاد خدرك و الظلام معا خفقت باجنحة الغراب علي عينيك تنشر حولك الفزعا الصبح صبحك ضحك شامتة دام و ليلك مضجع ينبو و اذا هلكت غدا فلا تجدي قبرا و مزق صدرك الذءب ****** و البوم يملا عشه نتفا من شعرك المتعفر الضجر و يعود ثغرك لذباب لقي و يداك مثقلتان بالحجر لا تدفعان اذاه عن شفة بالامس اخرس لغوها و تري و ليسق من دمك الخبث غدا دوح تعش فوقه الغرب تاوي الصلال الي جوانبه غرثي و يعوي تحته الكلب ****** ويعود من خشباته نزق جان بمقبض خنجر دام ويعد منه سرير زانية تهوي فتثقله باثام وتظل اعواد المشانق من اعواده كسيت باجسام حتي اذا عصف الذبول به وهوي عليه المعول العضب كان الوقود لقدر ساحرة بين المقابر شانها القشب'"
      ]
     },
     "execution_count": 13,
     "metadata": {},
     "output_type": "execute_result"
    }
   ],
   "source": [
    "poem.poem_text.iloc[1]"
   ]
  },
  {
   "cell_type": "markdown",
   "metadata": {},
   "source": [
    "### Let's remove any special character and numbers form the poems"
   ]
  },
  {
   "cell_type": "code",
   "execution_count": 14,
   "metadata": {},
   "outputs": [],
   "source": [
    "arabic_punctuations = '''`÷×-؛<>_()*&^%][ـ،/:\"؟.,'{}~¦+|!”…“–ـ'''\n",
    "numbers = '،؛؟”0123456789“'\n",
    "\n",
    "punctuations_list = arabic_punctuations + numbers\n",
    "def removePunctuation(text):\n",
    "    translator = str.maketrans('', '', punctuations_list)\n",
    "    return text.translate(translator)\n",
    "\n",
    "poem['poem_text'] = poem['poem_text'].apply(lambda x: removePunctuation(x))"
   ]
  },
  {
   "cell_type": "code",
   "execution_count": 15,
   "metadata": {},
   "outputs": [
    {
     "data": {
      "text/html": [
       "<div>\n",
       "<style scoped>\n",
       "    .dataframe tbody tr th:only-of-type {\n",
       "        vertical-align: middle;\n",
       "    }\n",
       "\n",
       "    .dataframe tbody tr th {\n",
       "        vertical-align: top;\n",
       "    }\n",
       "\n",
       "    .dataframe thead th {\n",
       "        text-align: right;\n",
       "    }\n",
       "</style>\n",
       "<table border=\"1\" class=\"dataframe\">\n",
       "  <thead>\n",
       "    <tr style=\"text-align: right;\">\n",
       "      <th></th>\n",
       "      <th>poem_id</th>\n",
       "      <th>poem_style</th>\n",
       "      <th>poem_text</th>\n",
       "      <th>poem_title</th>\n",
       "      <th>poet_cat</th>\n",
       "      <th>poet_id</th>\n",
       "      <th>poet_name</th>\n",
       "    </tr>\n",
       "  </thead>\n",
       "  <tbody>\n",
       "    <tr>\n",
       "      <th>0</th>\n",
       "      <td>21</td>\n",
       "      <td>فصحى</td>\n",
       "      <td>عيناك غابتا نخيل ساعة السحر او شرفتان راح يناي...</td>\n",
       "      <td>أنشودة المطر</td>\n",
       "      <td>العراق</td>\n",
       "      <td>2</td>\n",
       "      <td>بدر شاكر السياب</td>\n",
       "    </tr>\n",
       "    <tr>\n",
       "      <th>1</th>\n",
       "      <td>65546</td>\n",
       "      <td>فصحى</td>\n",
       "      <td>انا لا ازال و في يدي قدحي ياليل اين تفرق الشر...</td>\n",
       "      <td>أقداح و أحلام</td>\n",
       "      <td>العراق</td>\n",
       "      <td>2</td>\n",
       "      <td>بدر شاكر السياب</td>\n",
       "    </tr>\n",
       "    <tr>\n",
       "      <th>2</th>\n",
       "      <td>65561</td>\n",
       "      <td>فصحى</td>\n",
       "      <td>علي مقلتيك ارتشفت النجوم وعانقت امالي الايبة ...</td>\n",
       "      <td>هوى واحد !</td>\n",
       "      <td>العراق</td>\n",
       "      <td>2</td>\n",
       "      <td>بدر شاكر السياب</td>\n",
       "    </tr>\n",
       "    <tr>\n",
       "      <th>3</th>\n",
       "      <td>65554</td>\n",
       "      <td>فصحى</td>\n",
       "      <td>اساطير من حشرجات الزمان نسيج اليد البالية رواه...</td>\n",
       "      <td>أساطير</td>\n",
       "      <td>العراق</td>\n",
       "      <td>2</td>\n",
       "      <td>بدر شاكر السياب</td>\n",
       "    </tr>\n",
       "    <tr>\n",
       "      <th>4</th>\n",
       "      <td>65550</td>\n",
       "      <td>فصحى</td>\n",
       "      <td>والتف حولك ساعداي ومال جيدك في اشتهاء كالزهرة ...</td>\n",
       "      <td>اللقاء الأخير</td>\n",
       "      <td>العراق</td>\n",
       "      <td>2</td>\n",
       "      <td>بدر شاكر السياب</td>\n",
       "    </tr>\n",
       "  </tbody>\n",
       "</table>\n",
       "</div>"
      ],
      "text/plain": [
       "   poem_id poem_style                                          poem_text  \\\n",
       "0       21       فصحى  عيناك غابتا نخيل ساعة السحر او شرفتان راح يناي...   \n",
       "1    65546       فصحى   انا لا ازال و في يدي قدحي ياليل اين تفرق الشر...   \n",
       "2    65561       فصحى   علي مقلتيك ارتشفت النجوم وعانقت امالي الايبة ...   \n",
       "3    65554       فصحى  اساطير من حشرجات الزمان نسيج اليد البالية رواه...   \n",
       "4    65550       فصحى  والتف حولك ساعداي ومال جيدك في اشتهاء كالزهرة ...   \n",
       "\n",
       "       poem_title poet_cat  poet_id        poet_name  \n",
       "0   أنشودة المطر    العراق        2  بدر شاكر السياب  \n",
       "1  أقداح و أحلام    العراق        2  بدر شاكر السياب  \n",
       "2     هوى واحد !    العراق        2  بدر شاكر السياب  \n",
       "3         أساطير    العراق        2  بدر شاكر السياب  \n",
       "4  اللقاء الأخير    العراق        2  بدر شاكر السياب  "
      ]
     },
     "execution_count": 15,
     "metadata": {},
     "output_type": "execute_result"
    }
   ],
   "source": [
    "poem.head()"
   ]
  },
  {
   "cell_type": "markdown",
   "metadata": {},
   "source": [
    "# 3. NLP Techniques.\n",
    "### Now, it is time to perform tokenization (chopping a character into pieces)"
   ]
  },
  {
   "cell_type": "code",
   "execution_count": 16,
   "metadata": {},
   "outputs": [],
   "source": [
    "poem[\"poem_text\"] = poem[\"poem_text\"].apply(nltk.word_tokenize)"
   ]
  },
  {
   "cell_type": "code",
   "execution_count": 17,
   "metadata": {},
   "outputs": [
    {
     "data": {
      "text/html": [
       "<div>\n",
       "<style scoped>\n",
       "    .dataframe tbody tr th:only-of-type {\n",
       "        vertical-align: middle;\n",
       "    }\n",
       "\n",
       "    .dataframe tbody tr th {\n",
       "        vertical-align: top;\n",
       "    }\n",
       "\n",
       "    .dataframe thead th {\n",
       "        text-align: right;\n",
       "    }\n",
       "</style>\n",
       "<table border=\"1\" class=\"dataframe\">\n",
       "  <thead>\n",
       "    <tr style=\"text-align: right;\">\n",
       "      <th></th>\n",
       "      <th>poem_id</th>\n",
       "      <th>poem_style</th>\n",
       "      <th>poem_text</th>\n",
       "      <th>poem_title</th>\n",
       "      <th>poet_cat</th>\n",
       "      <th>poet_id</th>\n",
       "      <th>poet_name</th>\n",
       "    </tr>\n",
       "  </thead>\n",
       "  <tbody>\n",
       "    <tr>\n",
       "      <th>0</th>\n",
       "      <td>21</td>\n",
       "      <td>فصحى</td>\n",
       "      <td>[عيناك, غابتا, نخيل, ساعة, السحر, او, شرفتان, ...</td>\n",
       "      <td>أنشودة المطر</td>\n",
       "      <td>العراق</td>\n",
       "      <td>2</td>\n",
       "      <td>بدر شاكر السياب</td>\n",
       "    </tr>\n",
       "    <tr>\n",
       "      <th>1</th>\n",
       "      <td>65546</td>\n",
       "      <td>فصحى</td>\n",
       "      <td>[انا, لا, ازال, و, في, يدي, قدحي, ياليل, اين, ...</td>\n",
       "      <td>أقداح و أحلام</td>\n",
       "      <td>العراق</td>\n",
       "      <td>2</td>\n",
       "      <td>بدر شاكر السياب</td>\n",
       "    </tr>\n",
       "    <tr>\n",
       "      <th>2</th>\n",
       "      <td>65561</td>\n",
       "      <td>فصحى</td>\n",
       "      <td>[علي, مقلتيك, ارتشفت, النجوم, وعانقت, امالي, ا...</td>\n",
       "      <td>هوى واحد !</td>\n",
       "      <td>العراق</td>\n",
       "      <td>2</td>\n",
       "      <td>بدر شاكر السياب</td>\n",
       "    </tr>\n",
       "    <tr>\n",
       "      <th>3</th>\n",
       "      <td>65554</td>\n",
       "      <td>فصحى</td>\n",
       "      <td>[اساطير, من, حشرجات, الزمان, نسيج, اليد, البال...</td>\n",
       "      <td>أساطير</td>\n",
       "      <td>العراق</td>\n",
       "      <td>2</td>\n",
       "      <td>بدر شاكر السياب</td>\n",
       "    </tr>\n",
       "    <tr>\n",
       "      <th>4</th>\n",
       "      <td>65550</td>\n",
       "      <td>فصحى</td>\n",
       "      <td>[والتف, حولك, ساعداي, ومال, جيدك, في, اشتهاء, ...</td>\n",
       "      <td>اللقاء الأخير</td>\n",
       "      <td>العراق</td>\n",
       "      <td>2</td>\n",
       "      <td>بدر شاكر السياب</td>\n",
       "    </tr>\n",
       "  </tbody>\n",
       "</table>\n",
       "</div>"
      ],
      "text/plain": [
       "   poem_id poem_style                                          poem_text  \\\n",
       "0       21       فصحى  [عيناك, غابتا, نخيل, ساعة, السحر, او, شرفتان, ...   \n",
       "1    65546       فصحى  [انا, لا, ازال, و, في, يدي, قدحي, ياليل, اين, ...   \n",
       "2    65561       فصحى  [علي, مقلتيك, ارتشفت, النجوم, وعانقت, امالي, ا...   \n",
       "3    65554       فصحى  [اساطير, من, حشرجات, الزمان, نسيج, اليد, البال...   \n",
       "4    65550       فصحى  [والتف, حولك, ساعداي, ومال, جيدك, في, اشتهاء, ...   \n",
       "\n",
       "       poem_title poet_cat  poet_id        poet_name  \n",
       "0   أنشودة المطر    العراق        2  بدر شاكر السياب  \n",
       "1  أقداح و أحلام    العراق        2  بدر شاكر السياب  \n",
       "2     هوى واحد !    العراق        2  بدر شاكر السياب  \n",
       "3         أساطير    العراق        2  بدر شاكر السياب  \n",
       "4  اللقاء الأخير    العراق        2  بدر شاكر السياب  "
      ]
     },
     "execution_count": 17,
     "metadata": {},
     "output_type": "execute_result"
    }
   ],
   "source": [
    "poem.head()"
   ]
  },
  {
   "cell_type": "code",
   "execution_count": 18,
   "metadata": {},
   "outputs": [
    {
     "data": {
      "text/plain": [
       "(57693, 7)"
      ]
     },
     "execution_count": 18,
     "metadata": {},
     "output_type": "execute_result"
    }
   ],
   "source": [
    "poem.shape"
   ]
  },
  {
   "cell_type": "code",
   "execution_count": 19,
   "metadata": {},
   "outputs": [
    {
     "data": {
      "text/plain": [
       "0        [عيناك, غابتا, نخيل, ساعة, السحر, او, شرفتان, ...\n",
       "1        [انا, لا, ازال, و, في, يدي, قدحي, ياليل, اين, ...\n",
       "2        [علي, مقلتيك, ارتشفت, النجوم, وعانقت, امالي, ا...\n",
       "3        [اساطير, من, حشرجات, الزمان, نسيج, اليد, البال...\n",
       "4        [والتف, حولك, ساعداي, ومال, جيدك, في, اشتهاء, ...\n",
       "5        [اطلي, علي, طرفي, الدامع, خيالا, من, الكوكب, ا...\n",
       "6        [اتبعيني, فالضحي, رانت, به, الذكري, علي, شط, ب...\n",
       "7        [الداء, يثلج, راحتي, ويطفء, الغد, في, خيالي, و...\n",
       "8        [سوف, امضي, اسمع, الريح, تناديني, بعيدا, في, ظ...\n",
       "9        [اليل, والسوق, القديم, خفت, به, الاصوات, الا, ...\n",
       "10       [هبت, تغمغم, سوف, نفترق, روح, علي, شفتيك, تحتر...\n",
       "11       [بقايا, من, القافلة, تنير, لها, نجمة, افلة, طر...\n",
       "12       [لك, الحمد, مهما, استطال, البلاء, ومهما, استبد...\n",
       "13       [اريقي, علي, ساعدي, الدموع, و, شدي, علي, صدري,...\n",
       "14       [لا, تزيديه, لوعة, فهو, يلقاك, لينسي, لديك, بع...\n",
       "15       [عطرت, احلامي, بهذا, الشذي, من, شعرك, المسترسل...\n",
       "16       [عينان, زرقاوان, ينعس, فيهما, لون, الغدير, ارن...\n",
       "17       [في, ليالي, الخريف, الحزين, حين, يطغي, علي, ال...\n",
       "18       [في, المقهي, المزدحم, الناءي, في, ذات, مساء, و...\n",
       "19       [عيناك, والنور, الضءيل, من, الشموع, الخابيات, ...\n",
       "20       [ذراعا, ابي, تلقيان, الظلال, علي, روحي, المسته...\n",
       "21       [قد, انتصف, اليل, فاطو, الكتاب, عن, الريح, وال...\n",
       "22       [اضيءي, لغيري, فكل, الدروب, سواء, علي, المقلة,...\n",
       "23       [اضيءي, لغيري, فكل, الدروب, سواء, علي, المقلة,...\n",
       "24       [الكوكب, الوسنان, يطفيء, ناره, خلف, التلال, وا...\n",
       "25       [لست, انت, التي, بها, تحلم, الروح, و, لست, الت...\n",
       "26       [هل, تسمين, الذي, القي, هياما, ام, جنونا, بالا...\n",
       "27       [فرالنهار, من, البيوت, الناءيات, الي, السحاب, ...\n",
       "28       [يا, ضياء, الحقول, ياغنوة, الفلاح, في, الساجيا...\n",
       "29       [ديوان, شعر, ملءه, غزل, بين, العذاري, بات, ينت...\n",
       "                               ...                        \n",
       "57991    [سخاء, الكحل, ام, سدف, تشيح, ورمش, رف, ام, قمر...\n",
       "57992    [كلما, مضني, الفقد, الي, جازان, اسرجت, براق, و...\n",
       "57993    [الدهشة, ماثلة, كعزيف, الجن, علي, اطلال, نوافذ...\n",
       "57994    [العادم, ينفث, ادخنة, سوداء, يزار, في, وجه, ال...\n",
       "57995    [انستي, الغجرية, كل, الاشياء, هنا, تقمعني, لغت...\n",
       "57996    [يكاد, القلب, من, وجد, يذوب, بريء, ليس, تبرحه,...\n",
       "57997    [حين, ادير, الظهر, لاحلام, باكية, تكور, في, مل...\n",
       "57998    [تدبر, في, جوانحك, اقترابا, وتنزف, في, مساكنك,...\n",
       "57999    [خفت, سليمي, الي, الديار, في, عجل, وانتابها, ق...\n",
       "58000    [ما, اشد, علامات, الجد, علي, الوجوه, قسطنطين, ...\n",
       "58001    [ايكون, اقصي, الارض, لي, سكنا, سعدي, يوسف, تسي...\n",
       "58002    [في, ذمة, اله, ما, القي, وما, اجد, الجواهري, ذ...\n",
       "58003    [ام, نحن, بدء, الناس, كل, تراثنا, انصاب, طين, ...\n",
       "58004    [مر, القطار, سريعا, كنت, انتظر, محمود, درويش, ...\n",
       "58005    [هكذا, ودون, اية, مناسبة, يغادر, الفيء, الشجرة...\n",
       "58006    [هل, اضعنا, الطريق, كاي, غريبين, يا, صاحبي, ام...\n",
       "58007    [تمر, السنون, ونكبر, والارض, تكبر, والنهر, يكب...\n",
       "58008    [ما, حاجتنا, لنرجس, ما, دمنا, فلسطينين, محمود,...\n",
       "58009    [سفين, من, هوي, سلمي, سري, في, موجة, ظلمي, انا...\n",
       "58010    [حينما, يعود, النهار, الي, نهاية, الغياب, تدخل...\n",
       "58011    [ولبست, سماء, من, ماء, معطف, تاريخ, والارض, حذ...\n",
       "58012    [استقي, مني, الشروق, شموخه, وغدا, يصارع, من, د...\n",
       "58013    [يا, سيدة, الورق, الاخضر, يا, زنبقة, تختزن, سم...\n",
       "58014    [يا, دمع, يا, سكون, ادم, من, الثياب, قهوتي, حص...\n",
       "58015    [ملامح, الانسان, في, الزمان, تنحني, فينحني, ال...\n",
       "58016    [لروح, صهيل, لا, تحويه, الاوقات, ذنبك, انك, تم...\n",
       "58017    [اه, لو, اني, ابني, الشمس, بعيني, من, طين, هوا...\n",
       "58018    [في, عينيك, يا, امي, لماذا, الدمع, منتظم, كعقد...\n",
       "58019    [النوم, يوقظ, طرفي, الظامي, علي, لحن, تموج, من...\n",
       "58020    [السلم, الذي, نزلت, فيه, لسماء, سلم, من, الجنا...\n",
       "Name: poem_text, Length: 57693, dtype: object"
      ]
     },
     "execution_count": 19,
     "metadata": {},
     "output_type": "execute_result"
    }
   ],
   "source": [
    "poem['poem_text']"
   ]
  },
  {
   "cell_type": "markdown",
   "metadata": {},
   "source": [
    "### Next step is to remove Arabic stop words"
   ]
  },
  {
   "cell_type": "code",
   "execution_count": 20,
   "metadata": {},
   "outputs": [],
   "source": [
    "stop = stopwords.words('arabic')\n",
    "poem['poem_text'] = poem['poem_text'].apply(lambda x: [word for word in tq(x) if word not in stop])\n",
    "\n",
    "clear_output() #Clear the output"
   ]
  },
  {
   "cell_type": "markdown",
   "metadata": {},
   "source": [
    "### Last step, (Stemming) bring the words back to their root"
   ]
  },
  {
   "cell_type": "code",
   "execution_count": 21,
   "metadata": {},
   "outputs": [],
   "source": [
    "ISRIS_st = ISRIStemmer()\n",
    "poem['poem_text'] = poem['poem_text'].apply(lambda x: [ISRIS_st.stem(word) for word in tq(x)])\n",
    "\n",
    "clear_output()"
   ]
  },
  {
   "cell_type": "markdown",
   "metadata": {},
   "source": [
    "### This step is to save the tokenized and stemmed data, so later it can be read as a list to feed it to TfidfVectorizer"
   ]
  },
  {
   "cell_type": "code",
   "execution_count": 22,
   "metadata": {},
   "outputs": [],
   "source": [
    "poem.to_csv('token_stem.csv', encoding='utf-8')"
   ]
  },
  {
   "cell_type": "code",
   "execution_count": 23,
   "metadata": {},
   "outputs": [],
   "source": [
    "poem = pd.read_csv('token_stem.csv') "
   ]
  },
  {
   "cell_type": "code",
   "execution_count": 24,
   "metadata": {},
   "outputs": [
    {
     "data": {
      "text/plain": [
       "0    ['عين', 'غبت', 'نخل', 'سعة', 'سحر', 'او', 'شرف...\n",
       "1    ['انا', 'ازل', 'و', 'يدي', 'قدح', 'الل', 'اين'...\n",
       "2    ['علي', 'قلت', 'رشف', 'نجم', 'عنق', 'ملي', 'اي...\n",
       "3    ['اطر', 'حشرج', 'زمن', 'نسج', 'الد', 'بلي', 'ر...\n",
       "4    ['لتف', 'حول', 'سعد', 'ومل', 'جيد', 'شهء', 'زه...\n",
       "Name: poem_text, dtype: object"
      ]
     },
     "execution_count": 24,
     "metadata": {},
     "output_type": "execute_result"
    }
   ],
   "source": [
    "poem['poem_text'].head()    "
   ]
  },
  {
   "cell_type": "markdown",
   "metadata": {},
   "source": [
    "# 4. Visualization.\n",
    "### Count the poets category"
   ]
  },
  {
   "cell_type": "code",
   "execution_count": 25,
   "metadata": {},
   "outputs": [
    {
     "data": {
      "text/plain": [
       "العصر العباسي          19400\n",
       "العصر الأندلسي          6292\n",
       "سوريا                   5031\n",
       "مصر                     4770\n",
       "لبنان                   4584\n",
       "العراق                  4226\n",
       "العصر الإسلامي          3696\n",
       "السعودية                1928\n",
       "فلسطين                  1710\n",
       "العصر الجاهلي           1457\n",
       "اليمن                    698\n",
       "عمان                     607\n",
       "الإمارات                 563\n",
       "البحرين                  551\n",
       "الجزائر                  405\n",
       "السودان                  403\n",
       "تونس                     351\n",
       "الأردن                   263\n",
       "ليبيا                    238\n",
       "المغرب                   201\n",
       "إيران                     90\n",
       "أفغانستان                 70\n",
       "شعراء العراق والشام       68\n",
       "الكويت                    54\n",
       "قطر                       22\n",
       "موريتانيا                 15\n",
       "Name: poet_cat, dtype: int64"
      ]
     },
     "execution_count": 25,
     "metadata": {},
     "output_type": "execute_result"
    }
   ],
   "source": [
    "poem['poet_cat'].value_counts()"
   ]
  },
  {
   "cell_type": "markdown",
   "metadata": {},
   "source": [
    "The categories are (العصر العباسي,العصر الأندلسي , العصر الإسلامي, العصر الجاهلي, وأسماء دول), أسماء الدول will be converted into العصر الحديث"
   ]
  },
  {
   "cell_type": "markdown",
   "metadata": {},
   "source": [
    "### Now create a list of moden and old categories, to group all country names into one category."
   ]
  },
  {
   "cell_type": "code",
   "execution_count": 26,
   "metadata": {},
   "outputs": [],
   "source": [
    "modern= ['سوريا','مصر','لبنان','العراق','السعودية','فلسطين','اليمن','عمان'\n",
    "         ,'الإمارات','البحرين','الجزائر','السودان','تونس','الأردن','ليبيا',\n",
    "        'المغرب','إيران','أفغانستان','شعراء العراق والشام','الكويت','قطر','موريتانيا']\n",
    "old = ['العصر العباسي','العصر الأندلسي','العصر الإسلامي','العصر الجاهلي']"
   ]
  },
  {
   "cell_type": "code",
   "execution_count": 27,
   "metadata": {},
   "outputs": [],
   "source": [
    "poem['category'] = poem['poet_cat']\n",
    "\n",
    "poem['category'] = poem['category'].replace(old[0], 1)\n",
    "poem['category'] = poem['category'].replace(old[1], 2)\n",
    "poem['category'] = poem['category'].replace(old[2], 3)\n",
    "poem['category'] = poem['category'].replace(old[3], 4)\n",
    "poem['category'] = poem['category'].replace(modern, 5) # العصر الحديث"
   ]
  },
  {
   "cell_type": "code",
   "execution_count": 28,
   "metadata": {
    "scrolled": true
   },
   "outputs": [
    {
     "data": {
      "text/plain": [
       "5    26848\n",
       "1    19400\n",
       "2     6292\n",
       "3     3696\n",
       "4     1457\n",
       "Name: category, dtype: int64"
      ]
     },
     "execution_count": 28,
     "metadata": {},
     "output_type": "execute_result"
    }
   ],
   "source": [
    "poem['category']\n",
    "poem['category'].value_counts()"
   ]
  },
  {
   "cell_type": "markdown",
   "metadata": {},
   "source": [
    "The most Frequent category is العصر الحديث with 26848 poem"
   ]
  },
  {
   "cell_type": "markdown",
   "metadata": {},
   "source": [
    "### Visualize the count of categories"
   ]
  },
  {
   "cell_type": "code",
   "execution_count": 29,
   "metadata": {},
   "outputs": [
    {
     "data": {
      "text/plain": [
       "Text(0, 0.5, 'Letters')"
      ]
     },
     "execution_count": 29,
     "metadata": {},
     "output_type": "execute_result"
    },
    {
     "data": {
      "image/png": "[encoded data removed]",
      "text/plain": [
       "<Figure size 720x720 with 1 Axes>"
      ]
     },
     "metadata": {
      "needs_background": "light"
     },
     "output_type": "display_data"
    }
   ],
   "source": [
    "poem['category'].value_counts().plot(kind='barh', figsize=(10,10))\n",
    "plt.xlabel('Count')\n",
    "plt.ylabel('Letters')"
   ]
  },
  {
   "cell_type": "markdown",
   "metadata": {},
   "source": [
    "# 5. split the data into training and testingn (consider only poem and category)."
   ]
  },
  {
   "cell_type": "code",
   "execution_count": 30,
   "metadata": {},
   "outputs": [],
   "source": [
    "x_train, y_test, x_label, y_label = train_test_split(poem['poem_text'], poem['category'], test_size=0.2, random_state=42)"
   ]
  },
  {
   "cell_type": "markdown",
   "metadata": {},
   "source": [
    "# 6. Now create a matrix of TF-IDF features. Set the max_features to 1000, if not then 6032543 features will be considerd, to reduce computational cost set it to 1000."
   ]
  },
  {
   "cell_type": "code",
   "execution_count": 31,
   "metadata": {},
   "outputs": [],
   "source": [
    "tf = TfidfVectorizer(max_features=1000,ngram_range=(1, 2),min_df=0)\n",
    "\n",
    "tfidf_matrix = tf.fit_transform(poem['poem_text'])\n",
    "\n",
    "trainTfidf = tf.transform(x_train)\n",
    "testtfidf = tf.transform(y_test)"
   ]
  },
  {
   "cell_type": "code",
   "execution_count": 32,
   "metadata": {},
   "outputs": [
    {
     "data": {
      "text/plain": [
       "(57693, 1000)"
      ]
     },
     "execution_count": 32,
     "metadata": {},
     "output_type": "execute_result"
    }
   ],
   "source": [
    "tfidf_matrix.shape"
   ]
  },
  {
   "cell_type": "markdown",
   "metadata": {},
   "source": [
    "# 7. Trying different models to see which one is better.\n",
    "\n",
    "### First one to use is Logistic Regression."
   ]
  },
  {
   "cell_type": "code",
   "execution_count": 33,
   "metadata": {},
   "outputs": [
    {
     "name": "stdout",
     "output_type": "stream",
     "text": [
      "accuracy : 0.7062137100268654\n",
      "macro f1 score : 0.4902782883294406\n",
      "micro f1 scoore : 0.7062137100268654\n",
      "hamming loss : 0.2937862899731346\n",
      "Precision recall report :\n",
      "               precision    recall  f1-score   support\n",
      "\n",
      "           1       0.62      0.77      0.69      3821\n",
      "           2       0.55      0.24      0.34      1229\n",
      "           3       0.57      0.31      0.40       748\n",
      "           4       0.42      0.13      0.20       295\n",
      "           5       0.81      0.85      0.83      5446\n",
      "\n",
      "    accuracy                           0.71     11539\n",
      "   macro avg       0.59      0.46      0.49     11539\n",
      "weighted avg       0.69      0.71      0.69     11539\n",
      "\n"
     ]
    }
   ],
   "source": [
    "logClassifier = LogisticRegression(solver='sag', C=10,penalty='l2')\n",
    "logClassifier.fit(trainTfidf, x_label)\n",
    "logPredictions = logClassifier.predict(testtfidf)\n",
    "\n",
    "print(\"accuracy :\",metrics.accuracy_score(y_label,logPredictions))\n",
    "print(\"macro f1 score :\",metrics.f1_score(y_label, logPredictions, average = 'macro'))\n",
    "print(\"micro f1 scoore :\",metrics.f1_score(y_label, logPredictions, average = 'micro'))\n",
    "print(\"hamming loss :\",metrics.hamming_loss(y_label,logPredictions))\n",
    "print(\"Precision recall report :\\n\",metrics.classification_report(y_label, logPredictions))"
   ]
  },
  {
   "cell_type": "markdown",
   "metadata": {},
   "source": [
    "#### lets use Kfold cross validation on Logistic Regression to see if there is any improvement."
   ]
  },
  {
   "cell_type": "code",
   "execution_count": 34,
   "metadata": {},
   "outputs": [
    {
     "name": "stdout",
     "output_type": "stream",
     "text": [
      "[0.70333478 0.70116934 0.70233969 0.69729144 0.70292524 0.7035753\n",
      " 0.69274106 0.70119177 0.70351105 0.70388034]\n"
     ]
    }
   ],
   "source": [
    "logKfold = cross_val_score(logClassifier, trainTfidf, x_label, cv=10)\n",
    "print(logKfold)"
   ]
  },
  {
   "cell_type": "markdown",
   "metadata": {},
   "source": [
    "After using Kfold the results are almost the same, no improvements."
   ]
  },
  {
   "cell_type": "markdown",
   "metadata": {},
   "source": [
    "### Stochastic Gradient Descent Classifier been successfully applied to large-scale of machine learning problems, often encountered in text classification and NLP, so I decided to use it."
   ]
  },
  {
   "cell_type": "code",
   "execution_count": 35,
   "metadata": {},
   "outputs": [
    {
     "name": "stdout",
     "output_type": "stream",
     "text": [
      "accuracy : 0.7055204090475777\n",
      "macro f1 score : 0.47697596876421217\n",
      "micro f1 scoore : 0.7055204090475777\n",
      "hamming loss : 0.2944795909524222\n",
      "Precision recall report :\n",
      "               precision    recall  f1-score   support\n",
      "\n",
      "           1       0.61      0.78      0.69      3821\n",
      "           2       0.56      0.22      0.31      1229\n",
      "           3       0.59      0.30      0.40       748\n",
      "           4       0.41      0.09      0.15       295\n",
      "           5       0.81      0.85      0.83      5446\n",
      "\n",
      "    accuracy                           0.71     11539\n",
      "   macro avg       0.60      0.45      0.48     11539\n",
      "weighted avg       0.69      0.71      0.68     11539\n",
      "\n"
     ]
    }
   ],
   "source": [
    "classifier = SGDClassifier(loss='log', alpha=0.00001, penalty='l1', verbose=0)\n",
    "classifier.fit(trainTfidf, x_label)\n",
    "predictions = classifier.predict(testtfidf)\n",
    "\n",
    "print(\"accuracy :\",metrics.accuracy_score(y_label,predictions))\n",
    "print(\"macro f1 score :\",metrics.f1_score(y_label, predictions, average = 'macro'))\n",
    "print(\"micro f1 scoore :\",metrics.f1_score(y_label, predictions, average = 'micro'))\n",
    "print(\"hamming loss :\",metrics.hamming_loss(y_label,predictions))\n",
    "print(\"Precision recall report :\\n\",metrics.classification_report(y_label, predictions))"
   ]
  },
  {
   "cell_type": "markdown",
   "metadata": {},
   "source": [
    "SGD classifier perfomded almosl as good as logistic regression"
   ]
  },
  {
   "cell_type": "markdown",
   "metadata": {},
   "source": [
    "### Another classifier to compare with is Gaussian Naive Bayes."
   ]
  },
  {
   "cell_type": "code",
   "execution_count": 36,
   "metadata": {},
   "outputs": [
    {
     "name": "stdout",
     "output_type": "stream",
     "text": [
      "accuracy : 0.5254354796776151\n",
      "macro f1 score : 0.4095579549096639\n",
      "micro f1 scoore : 0.5254354796776151\n",
      "hamming loss : 0.47456452032238494\n",
      "Precision recall report :\n",
      "               precision    recall  f1-score   support\n",
      "\n",
      "           1       0.59      0.35      0.44      3821\n",
      "           2       0.27      0.55      0.36      1229\n",
      "           3       0.22      0.43      0.29       748\n",
      "           4       0.12      0.54      0.20       295\n",
      "           5       0.89      0.65      0.75      5446\n",
      "\n",
      "    accuracy                           0.53     11539\n",
      "   macro avg       0.42      0.50      0.41     11539\n",
      "weighted avg       0.66      0.53      0.56     11539\n",
      "\n"
     ]
    }
   ],
   "source": [
    "nbClassifier = GaussianNB()\n",
    "nbscore=nbClassifier.fit(trainTfidf.toarray(), x_label)\n",
    "nbPredictions = nbClassifier.predict(testtfidf.toarray())\n",
    "\n",
    "print(\"accuracy :\",metrics.accuracy_score(y_label,nbPredictions))\n",
    "print(\"macro f1 score :\",metrics.f1_score(y_label, nbPredictions, average = 'macro'))\n",
    "print(\"micro f1 scoore :\",metrics.f1_score(y_label, nbPredictions, average = 'micro'))\n",
    "print(\"hamming loss :\",metrics.hamming_loss(y_label,nbPredictions))\n",
    "print(\"Precision recall report :\\n\",metrics.classification_report(y_label, nbPredictions))"
   ]
  },
  {
   "cell_type": "markdown",
   "metadata": {},
   "source": [
    "Gaussian naive bayes did not perfom well as compared to the previos models"
   ]
  },
  {
   "cell_type": "markdown",
   "metadata": {},
   "source": [
    "### Last one to compare with is K nearest neighbors, let's choose different values of K to see what fits better."
   ]
  },
  {
   "cell_type": "code",
   "execution_count": 37,
   "metadata": {},
   "outputs": [
    {
     "name": "stdout",
     "output_type": "stream",
     "text": [
      "accuracy : 0.6096715486610624\n",
      "macro f1 score : 0.32727255253248055\n",
      "micro f1 scoore : 0.6096715486610624\n",
      "hamming loss : 0.3903284513389375\n",
      "Precision recall report :\n",
      "               precision    recall  f1-score   support\n",
      "\n",
      "           1       0.47      0.91      0.62      3821\n",
      "           2       0.81      0.05      0.10      1229\n",
      "           3       0.62      0.10      0.17       748\n",
      "           4       0.25      0.01      0.01       295\n",
      "           5       0.87      0.62      0.73      5446\n",
      "\n",
      "    accuracy                           0.61     11539\n",
      "   macro avg       0.60      0.34      0.33     11539\n",
      "weighted avg       0.70      0.61      0.57     11539\n",
      "\n"
     ]
    },
    {
     "data": {
      "image/png": "[encoded data removed]",
      "text/plain": [
       "<Figure size 432x288 with 1 Axes>"
      ]
     },
     "metadata": {
      "needs_background": "light"
     },
     "output_type": "display_data"
    }
   ],
   "source": [
    "k = [5,10,15,20]\n",
    "BOW_Train_Accuracy = []\n",
    "BOW_CV_Accuracy = []\n",
    "for i in k:\n",
    "    model = KNeighborsClassifier(n_neighbors=i)\n",
    "    model.fit(trainTfidf,x_label)\n",
    "    BOW_Train_Accuracy.append(model.score(trainTfidf,x_label))\n",
    "    BOW_CV_Accuracy.append(model.score(testtfidf,y_label))\n",
    "\n",
    "knn=model.predict(testtfidf)\n",
    "print(\"accuracy :\",metrics.accuracy_score(y_label,knn))\n",
    "print(\"macro f1 score :\",metrics.f1_score(y_label, knn, average = 'macro'))\n",
    "print(\"micro f1 scoore :\",metrics.f1_score(y_label, knn, average = 'micro'))\n",
    "print(\"hamming loss :\",metrics.hamming_loss(y_label,knn))\n",
    "print(\"Precision recall report :\\n\",metrics.classification_report(y_label, knn))\n",
    "\n",
    "plt.plot(np.asarray(k), BOW_Train_Accuracy, label='Train AUC')\n",
    "plt.plot(np.asarray(k), BOW_CV_Accuracy, label='CV AUC')\n",
    "plt.legend()\n",
    "plt.xlabel(\"K: hyperparameter\")\n",
    "plt.ylabel(\"Score\")\n",
    "plt.title(\"Mean accuracy plot\")\n",
    "plt.show()"
   ]
  },
  {
   "cell_type": "markdown",
   "metadata": {},
   "source": [
    "It seems that 20 K is better for KNN, however the accuracy is not that good."
   ]
  },
  {
   "cell_type": "markdown",
   "metadata": {},
   "source": [
    "# 8.Conclusion.\n",
    "### In this project, a classification model was built to classify Arabic poets using different models. As we see above, logostic regression and SGD performed better than the others, to get a better accuracy it is possible to change hyperparameter values and try different models, this can result even in choosing a better model.\n"
   ]
  },
  {
   "cell_type": "code",
   "execution_count": null,
   "metadata": {},
   "outputs": [],
   "source": []
  }
 ],
 "metadata": {
  "kernelspec": {
   "display_name": "Python 3",
   "language": "python",
   "name": "python3"
  },
  "language_info": {
   "codemirror_mode": {
    "name": "ipython",
    "version": 3
   },
   "file_extension": ".py",
   "mimetype": "text/x-python",
   "name": "python",
   "nbconvert_exporter": "python",
   "pygments_lexer": "ipython3",
   "version": "3.7.3"
  }
 },
 "nbformat": 4,
 "nbformat_minor": 2
}
